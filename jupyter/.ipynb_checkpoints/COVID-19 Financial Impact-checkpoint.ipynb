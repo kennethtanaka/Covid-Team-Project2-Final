{
 "cells": [
  {
   "cell_type": "code",
   "execution_count": null,
   "metadata": {},
   "outputs": [],
   "source": [
    "# Dependencies\n",
    "import pandas as pd\n",
    "import numpy as np\n",
    "import io\n",
    "import requests\n",
    "import json\n",
    "pd.set_option('display.max_rows', 1000)\n",
    "\n",
    "from config import key"
   ]
  },
  {
   "cell_type": "code",
   "execution_count": null,
   "metadata": {},
   "outputs": [],
   "source": [
    "# Import SQLAlchemy `automap` and otherfrom config import key dependencies\n",
    "import sqlalchemy\n",
    "from sqlalchemy.ext.automap import automap_base\n",
    "from sqlalchemy.orm import Session\n",
    "from sqlalchemy import create_engine, inspect\n",
    "from sqlalchemy import Column, Integer, String, Float\n",
    "from sqlalchemy.ext.declarative import declarative_base\n",
    "Base = declarative_base()"
   ]
  },
  {
   "cell_type": "markdown",
   "metadata": {},
   "source": [
    "# Dow Jones Industrial Average"
   ]
  },
  {
   "cell_type": "code",
   "execution_count": null,
   "metadata": {},
   "outputs": [],
   "source": [
    "# Build the endpoint URL for Dow Jones Industrial Average\n",
    "# Time : one day interval\n",
    "target_url = (f'https://api.twelvedata.com/time_series?symbol=DJI&exchange=NYSE&start_date=2020-01-01&interval=1day&apikey={key}')"
   ]
  },
  {
   "cell_type": "code",
   "execution_count": null,
   "metadata": {},
   "outputs": [],
   "source": [
    "# Run a request to endpoint and convert result to json\n",
    "DJI_data = requests.get(target_url).json()"
   ]
  },
  {
   "cell_type": "code",
   "execution_count": null,
   "metadata": {},
   "outputs": [],
   "source": [
    "#Specfically, for /stocks app.route\n",
    "combined_dji_df = pd.DataFrame(DJI_data[\"values\"]).copy()\n",
    "combined_dji_df[\"name\"] = \"DJI\"\n",
    "combined_dji_df.to_csv(\"combined_dji.csv\",index=False)"
   ]
  },
  {
   "cell_type": "code",
   "execution_count": null,
   "metadata": {},
   "outputs": [],
   "source": [
    "#for individual stock app.routes\n",
    "index_DJI_df = pd.DataFrame(DJI_data[\"values\"]).copy()\n",
    "index_DJI_df = index_DJI_df.reset_index().copy()\n",
    "index_DJI_df = index_DJI_df.rename(columns={\"index\":\"id\"})\n",
    "index_DJI_df\n",
    "index_DJI_df.to_csv(\"index_DJI.csv\")"
   ]
  },
  {
   "cell_type": "code",
   "execution_count": null,
   "metadata": {},
   "outputs": [],
   "source": [
    "#dataframe with index\n",
    "DJI_df = pd.DataFrame(DJI_data[\"values\"])\n",
    "#DJI_df= DJI_df.rename(columns={\"index\":\"id\"})\n",
    "DJI_df.to_csv(\"DJI.csv\",index=False)\n",
    "DJI_df"
   ]
  },
  {
   "cell_type": "code",
   "execution_count": null,
   "metadata": {},
   "outputs": [],
   "source": [
    "#dataframe without index(needed for percent change)\n",
    "DJI_df = pd.DataFrame(DJI_data[\"values\"])\n",
    "#DJI_df= DJI_df.rename(columns={\"index\":\"id\"})\n",
    "DJI_df.to_csv(\"DJI.csv\",index=False)\n",
    "DJI_df"
   ]
  },
  {
   "cell_type": "code",
   "execution_count": null,
   "metadata": {
    "scrolled": true
   },
   "outputs": [],
   "source": [
    "#read CSV to make sure pct_change() works\n",
    "DJI_read_df = pd.read_csv('DJI.csv', index_col=[0], parse_dates=[0])\n",
    "DJI_read_df"
   ]
  },
  {
   "cell_type": "code",
   "execution_count": null,
   "metadata": {},
   "outputs": [],
   "source": [
    "#removed dates so we can get the percent changed begining from Jan 1\n",
    "DJI_read = DJI_read_df.sort_values(\"datetime\").reset_index(drop=\"false\").copy()\n",
    "DJI_read"
   ]
  },
  {
   "cell_type": "code",
   "execution_count": null,
   "metadata": {
    "scrolled": true
   },
   "outputs": [],
   "source": [
    "#Percent change for DJI\n",
    "pct_DJI_df = DJI_read.pct_change(1)\n",
    "pct_DJI_df"
   ]
  },
  {
   "cell_type": "code",
   "execution_count": null,
   "metadata": {},
   "outputs": [],
   "source": [
    "newdji_df = DJI_df.sort_values(\"datetime\")\n",
    "dji_reset_df = newdji_df.reset_index(drop=\"false\").copy()\n",
    "#desc_order_dji_df = dji_reset_df.copy()\n",
    "desc_order_dji_df = dji_reset_df.reset_index().rename(columns={\"index\":\"id\"}).copy()\n",
    "desc_order_dji_df.to_csv(\"desc_order_dji.csv\")\n",
    "desc_order_dji_df"
   ]
  },
  {
   "cell_type": "code",
   "execution_count": null,
   "metadata": {
    "scrolled": false
   },
   "outputs": [],
   "source": [
    "#Now we are selecting the dates, close price and id columns\n",
    "dji_sort = pd.read_csv('desc_order_dji.csv', index_col=[0], parse_dates=[0])\n",
    "dji_desc_order_dji = dji_sort[[\"datetime\", \"close\", \"id\"]]\n",
    "dji_desc_order_dji"
   ]
  },
  {
   "cell_type": "code",
   "execution_count": null,
   "metadata": {},
   "outputs": [],
   "source": [
    "dji_desc_order_dji['prct_close'] = pct_DJI_df['close']\n",
    "dji_desc_order_dji[\"close_dji\"] = dji_desc_order_dji[\"close\"]\n",
    "dji_desc_order_dji"
   ]
  },
  {
   "cell_type": "code",
   "execution_count": null,
   "metadata": {},
   "outputs": [],
   "source": [
    "#added the relevant columns into percent change_dji dataframe\n",
    "pct_DJI_df['datetime'] = dji_desc_order_dji['datetime']\n",
    "pct_DJI_df['close_dji'] = dji_desc_order_dji['close']\n",
    "pct_DJI_df['id'] = dji_desc_order_dji['id']\n",
    "pct_DJI_df[[\"close\", \"datetime\", \"close_dji\"]].reset_index()\n",
    "pct_DJI_df[[\"prct_close\"]] = pct_DJI_df[[\"close\"]]*100\n",
    "pct_DJI_df"
   ]
  },
  {
   "cell_type": "code",
   "execution_count": null,
   "metadata": {},
   "outputs": [],
   "source": [
    "dji_desc_order_dji.to_csv(\"prct_change_dji.csv\")"
   ]
  },
  {
   "cell_type": "markdown",
   "metadata": {},
   "source": [
    "# S&P 500"
   ]
  },
  {
   "cell_type": "code",
   "execution_count": null,
   "metadata": {},
   "outputs": [],
   "source": [
    "# Build the endpoint URL for S&P 500\n",
    "# Time : one day interval\n",
    "target_url = (f'https://api.twelvedata.com/time_series?symbol=GSPC&start_date=2020-01-01&interval=1day&apikey={key}')"
   ]
  },
  {
   "cell_type": "code",
   "execution_count": null,
   "metadata": {},
   "outputs": [],
   "source": [
    "# Run a request to endpoint and convert result to json\n",
    "SNP_data = requests.get(target_url).json()"
   ]
  },
  {
   "cell_type": "code",
   "execution_count": null,
   "metadata": {},
   "outputs": [],
   "source": [
    "#Specfically, for /stocks app.route\n",
    "combined_snp_df = pd.DataFrame(SNP_data[\"values\"]).copy()\n",
    "combined_snp_df[\"name\"] = \"SNP\"\n",
    "combined_snp_df.to_csv(\"combined_snp.csv\",index=False)"
   ]
  },
  {
   "cell_type": "code",
   "execution_count": null,
   "metadata": {},
   "outputs": [],
   "source": [
    "#for individual stock app.routes\n",
    "index_SNP_df = pd.DataFrame(SNP_data[\"values\"]).copy()\n",
    "index_SNP_df = index_SNP_df.reset_index().copy()\n",
    "index_SNP_df = index_SNP_df.rename(columns={\"index\":\"id\"})\n",
    "index_SNP_df\n",
    "index_SNP_df.to_csv(\"index_SNP.csv\")"
   ]
  },
  {
   "cell_type": "code",
   "execution_count": null,
   "metadata": {},
   "outputs": [],
   "source": [
    "#for percent change app.route\n",
    "SNP_df = pd.DataFrame(SNP_data[\"values\"])\n",
    "SNP_df.to_csv(\"SNP.csv\",index=False)\n",
    "SNP_df"
   ]
  },
  {
   "cell_type": "code",
   "execution_count": null,
   "metadata": {},
   "outputs": [],
   "source": [
    "#read CSV to make sure pct_change() works\n",
    "SNP_read_df = pd.read_csv('SNP.csv', index_col=[0], parse_dates=[0])"
   ]
  },
  {
   "cell_type": "code",
   "execution_count": null,
   "metadata": {},
   "outputs": [],
   "source": [
    "#removed dates so we can get the percent changed begining from Jan 1\n",
    "SNP_read = SNP_read_df.sort_values(\"datetime\").reset_index(drop=\"false\").copy()"
   ]
  },
  {
   "cell_type": "code",
   "execution_count": null,
   "metadata": {},
   "outputs": [],
   "source": [
    "#Percent change for DJI\n",
    "pct_SNP_df = SNP_read.pct_change(1)\n",
    "pct_SNP_df"
   ]
  },
  {
   "cell_type": "code",
   "execution_count": null,
   "metadata": {},
   "outputs": [],
   "source": [
    "newsnp_df = SNP_df.sort_values(\"datetime\")\n",
    "snp_reset_df = newsnp_df.reset_index(drop=\"false\").copy()\n",
    "desc_order_snp_df = snp_reset_df.reset_index().rename(columns={\"index\":\"id\"}).copy()\n",
    "desc_order_snp_df.to_csv(\"desc_order_snp.csv\")\n",
    "#desc_order_snp_df"
   ]
  },
  {
   "cell_type": "code",
   "execution_count": null,
   "metadata": {},
   "outputs": [],
   "source": [
    "#Now we are selecting the dates, close price and id columns\n",
    "snp_sort = pd.read_csv('desc_order_snp.csv', index_col=[0], parse_dates=[0])\n",
    "snp_datetime = snp_sort[[\"datetime\", \"close\"]]\n",
    "snp_desc_order_snp = snp_sort[[\"datetime\", \"close\", \"id\"]]\n",
    "#snp_desc_order_snp"
   ]
  },
  {
   "cell_type": "code",
   "execution_count": null,
   "metadata": {},
   "outputs": [],
   "source": [
    "#added the relevant columns into \n",
    "pct_SNP_df['datetime'] = snp_desc_order_snp['datetime']\n",
    "pct_SNP_df['close_dji'] = snp_desc_order_snp['close']\n",
    "pct_SNP_df['id'] = snp_desc_order_snp['id']\n",
    "pct_SNP_df[[\"close\", \"datetime\", \"close_dji\"]].reset_index()\n",
    "pct_SNP_df[[\"prct_close\"]] = pct_SNP_df[[\"close\"]]*100\n",
    "pct_SNP_df"
   ]
  },
  {
   "cell_type": "code",
   "execution_count": null,
   "metadata": {},
   "outputs": [],
   "source": [
    "pct_SNP_df.to_csv(\"prct_change_snp.csv\")"
   ]
  },
  {
   "cell_type": "markdown",
   "metadata": {},
   "source": [
    "# NASDAQ"
   ]
  },
  {
   "cell_type": "code",
   "execution_count": null,
   "metadata": {},
   "outputs": [],
   "source": [
    "# Build the endpoint URL for NASDAQ\n",
    "# Time : one day interval\n",
    "target_url = (f'https://api.twelvedata.com/time_series?symbol=IXIC&start_date=2020-01-01&interval=1day&apikey={key}')"
   ]
  },
  {
   "cell_type": "code",
   "execution_count": null,
   "metadata": {},
   "outputs": [],
   "source": [
    "# Run a request to endpoint and convert result to json\n",
    "IXIC_data = requests.get(target_url).json()"
   ]
  },
  {
   "cell_type": "code",
   "execution_count": null,
   "metadata": {},
   "outputs": [],
   "source": [
    "#Specfically, for /stocks app.route\n",
    "combined_ixic_df = pd.DataFrame(IXIC_data[\"values\"]).copy()\n",
    "combined_ixic_df[\"name\"] = \"IXIC\"\n",
    "combined_ixic_df.to_csv(\"combined_ixic.csv\",index=False)"
   ]
  },
  {
   "cell_type": "code",
   "execution_count": null,
   "metadata": {},
   "outputs": [],
   "source": [
    "#for individual stock app.routes\n",
    "index_NAS_df = pd.DataFrame(IXIC_data[\"values\"]).copy()\n",
    "index_NAS_df = index_NAS_df.reset_index().copy()\n",
    "index_NAS_df = index_NAS_df.rename(columns={\"index\":\"id\"})\n",
    "index_NAS_df\n",
    "index_NAS_df.to_csv(\"index_NAS.csv\")"
   ]
  },
  {
   "cell_type": "code",
   "execution_count": null,
   "metadata": {},
   "outputs": [],
   "source": [
    "#for percent change app.route\n",
    "IXIC_df = pd.DataFrame(IXIC_data[\"values\"])\n",
    "IXIC_df.to_csv(\"Nasdaq.csv\",index=False)\n",
    "IXIC_df.head()"
   ]
  },
  {
   "cell_type": "code",
   "execution_count": null,
   "metadata": {},
   "outputs": [],
   "source": [
    "#read CSV to make sure pct_change() works\n",
    "NAS_read_df = pd.read_csv('Nasdaq.csv', index_col=[0], parse_dates=[0])\n"
   ]
  },
  {
   "cell_type": "code",
   "execution_count": null,
   "metadata": {},
   "outputs": [],
   "source": [
    "#removed dates so we can get the percent changed begining from Jan 1\n",
    "NAS_read = NAS_read_df.sort_values(\"datetime\").reset_index(drop=\"false\").copy()"
   ]
  },
  {
   "cell_type": "code",
   "execution_count": null,
   "metadata": {},
   "outputs": [],
   "source": [
    "#Percent change for DJI\n",
    "pct_NAS_df = NAS_read.pct_change(1)\n",
    "pct_NAS_df"
   ]
  },
  {
   "cell_type": "code",
   "execution_count": null,
   "metadata": {},
   "outputs": [],
   "source": [
    "#Now we are selecting the dates, close price and id columns\n",
    "newNAS_df = DJI_df.sort_values(\"datetime\")\n",
    "NAS_reset_df = newNAS_df.reset_index(drop=\"false\").copy()\n",
    "desc_order_NAS_df = NAS_reset_df.reset_index().rename(columns={\"index\":\"id\"}).copy()\n",
    "desc_order_NAS_df.to_csv(\"desc_order_NAS.csv\")\n",
    "desc_order_NAS_df"
   ]
  },
  {
   "cell_type": "code",
   "execution_count": null,
   "metadata": {},
   "outputs": [],
   "source": [
    "#Now we are selecting the dates, close price and id columns\n",
    "NAS_sort = pd.read_csv('desc_order_dji.csv', index_col=[0], parse_dates=[0])\n",
    "# NAS_datetime = NAS_sort[[\"datetime\", \"close\"]]\n",
    "NAS_desc_order_NAS = NAS_sort[[\"datetime\", \"close\", \"id\"]]\n",
    "#NAS_desc_order_NAS"
   ]
  },
  {
   "cell_type": "code",
   "execution_count": null,
   "metadata": {},
   "outputs": [],
   "source": [
    "#added the relevant columns into \n",
    "pct_NAS_df['datetime'] = NAS_desc_order_NAS['datetime']\n",
    "pct_NAS_df['close_dji'] = NAS_desc_order_NAS['close']\n",
    "pct_NAS_df['id'] = NAS_desc_order_NAS['id']\n",
    "pct_NAS_df[[\"close\", \"datetime\", \"close_dji\"]].reset_index()\n",
    "pct_NAS_df[[\"prct_close\"]] = pct_NAS_df[[\"close\"]]*100\n",
    "pct_NAS_df"
   ]
  },
  {
   "cell_type": "code",
   "execution_count": null,
   "metadata": {},
   "outputs": [],
   "source": [
    "pct_NAS_df.to_csv(\"prct_change_NAS.csv\")"
   ]
  },
  {
   "cell_type": "markdown",
   "metadata": {},
   "source": [
    "# Bitcoin"
   ]
  },
  {
   "cell_type": "code",
   "execution_count": null,
   "metadata": {},
   "outputs": [],
   "source": [
    "# Build the endpoint URL for Bitcoin\n",
    "#Time : one day interval\n",
    "# symbol ex: BTC/USD or XRP/ETH\n",
    "# Exchange where cryptocurrency is traded is optional\n",
    "target_url = (f'https://api.twelvedata.com/time_series?symbol=BTC/USD&start_date=2020-01-01&exchange=Binance&interval=1day&apikey={key}')"
   ]
  },
  {
   "cell_type": "code",
   "execution_count": null,
   "metadata": {},
   "outputs": [],
   "source": [
    "# Run a request to endpoint and convert result to json\n",
    "BTC_data = requests.get(target_url).json()"
   ]
  },
  {
   "cell_type": "code",
   "execution_count": null,
   "metadata": {},
   "outputs": [],
   "source": [
    "#Specfically, for /stocks app.route\n",
    "combined_btc_df = pd.DataFrame(BTC_data[\"values\"]).copy()\n",
    "combined_btc_df[\"name\"] = \"BTC\"\n",
    "combined_btc_df.to_csv(\"combined_btc.csv\",index=False)"
   ]
  },
  {
   "cell_type": "code",
   "execution_count": null,
   "metadata": {},
   "outputs": [],
   "source": [
    "#for individual stock app.routes\n",
    "index_BTC_df = pd.DataFrame(BTC_data[\"values\"]).copy()\n",
    "index_BTC_df = index_BTC_df.reset_index().copy()\n",
    "index_BTC_df = index_BTC_df.rename(columns={\"index\":\"id\"})\n",
    "index_BTC_df\n",
    "index_BTC_df.to_csv(\"index_BTC.csv\")"
   ]
  },
  {
   "cell_type": "code",
   "execution_count": null,
   "metadata": {},
   "outputs": [],
   "source": [
    "#for percent change app.route\n",
    "BTC_df = pd.DataFrame(BTC_data[\"values\"])\n",
    "BTC_df.to_csv(\"BTC.csv\",index=False)\n",
    "BTC_df.head()"
   ]
  },
  {
   "cell_type": "code",
   "execution_count": null,
   "metadata": {},
   "outputs": [],
   "source": [
    "#read CSV to make sure pct_change() works\n",
    "#convert to csv file\n",
    "BTC_read_df = pd.read_csv('BTC.csv', index_col=[0], parse_dates=[0])"
   ]
  },
  {
   "cell_type": "code",
   "execution_count": null,
   "metadata": {},
   "outputs": [],
   "source": [
    "#removed dates so we can get the percent changed begining from Jan 1\n",
    "BTC_read = BTC_read_df.sort_values(\"datetime\").reset_index(drop=\"false\").copy()"
   ]
  },
  {
   "cell_type": "code",
   "execution_count": null,
   "metadata": {},
   "outputs": [],
   "source": [
    "#Percent change for DJI\n",
    "pct_BTC_df = BTC_read.pct_change(1)\n",
    "pct_BTC_df"
   ]
  },
  {
   "cell_type": "code",
   "execution_count": null,
   "metadata": {},
   "outputs": [],
   "source": [
    "newbtc_df = BTC_df.sort_values(\"datetime\")\n",
    "btc_reset_df = newbtc_df.reset_index(drop=\"false\").copy()\n",
    "desc_order_btc_df = btc_reset_df.reset_index().rename(columns={\"index\":\"id\"}).copy()\n",
    "desc_order_btc_df.to_csv(\"desc_order_btc.csv\")\n",
    "#desc_order_btc_df"
   ]
  },
  {
   "cell_type": "code",
   "execution_count": null,
   "metadata": {},
   "outputs": [],
   "source": [
    "#Now we are selecting the dates, close price and id columns\n",
    "BTC_sort = pd.read_csv('desc_order_btc.csv', index_col=[0], parse_dates=[0])\n",
    "BTC_desc_order_BTC = BTC_sort[[\"datetime\", \"close\", \"id\"]]\n",
    "BTC_desc_order_BTC"
   ]
  },
  {
   "cell_type": "code",
   "execution_count": null,
   "metadata": {},
   "outputs": [],
   "source": [
    "#added the relevant columns into \n",
    "pct_BTC_df['datetime'] = BTC_desc_order_BTC['datetime']\n",
    "pct_BTC_df['close_dji'] = BTC_desc_order_BTC['close']\n",
    "pct_BTC_df['id'] = BTC_desc_order_BTC['id']\n",
    "pct_BTC_df[[\"close\", \"datetime\", \"close_dji\"]].reset_index()\n",
    "pct_BTC_df[[\"prct_close\"]] = pct_BTC_df[[\"close\"]]*100\n",
    "pct_BTC_df"
   ]
  },
  {
   "cell_type": "code",
   "execution_count": null,
   "metadata": {},
   "outputs": [],
   "source": [
    "pct_BTC_df.to_csv(\"prct_change_BTC.csv\")"
   ]
  },
  {
   "cell_type": "markdown",
   "metadata": {},
   "source": [
    "# VIX"
   ]
  },
  {
   "cell_type": "code",
   "execution_count": null,
   "metadata": {},
   "outputs": [],
   "source": [
    "target_url = (f'https://api.twelvedata.com/time_series?symbol=VIX&start_date=2020-01-01&interval=1day&apikey={key}')"
   ]
  },
  {
   "cell_type": "code",
   "execution_count": null,
   "metadata": {},
   "outputs": [],
   "source": [
    "VIX_data = requests.get(target_url).json()"
   ]
  },
  {
   "cell_type": "code",
   "execution_count": null,
   "metadata": {},
   "outputs": [],
   "source": [
    "VIX_df = pd.DataFrame(VIX_data[\"values\"])\n",
    "#VIX_df= VIX_df.rename(columns={\"index\":\"id\"})\n",
    "VIX_df[\"name\"] = \"VIX\"\n",
    "VIX_df[\"volume\"] = None\n",
    "VIX_df.to_csv(\"combined_vix.csv\")"
   ]
  },
  {
   "cell_type": "code",
   "execution_count": null,
   "metadata": {},
   "outputs": [],
   "source": [
    "VIX_df.head()"
   ]
  },
  {
   "cell_type": "markdown",
   "metadata": {},
   "source": [
    "# Combine Indices and Bitcoin"
   ]
  },
  {
   "cell_type": "code",
   "execution_count": null,
   "metadata": {},
   "outputs": [],
   "source": [
    "#combine stocks\n",
    "combinestocksdf = pd.concat([combined_dji_df,combined_btc_df,combined_snp_df,combined_ixic_df,VIX_df],ignore_index=True)\n",
    "combinestocksdf = combinestocksdf.reset_index()\n",
    "combinestocksdf = combinestocksdf.rename(columns={\"index\":\"id\"}) \n",
    "combinestocksdf.to_csv(\"stocks.csv\",index=False)\n",
    "combinestocksdf.head()"
   ]
  },
  {
   "cell_type": "markdown",
   "metadata": {},
   "source": [
    "# COVID-19"
   ]
  },
  {
   "cell_type": "code",
   "execution_count": null,
   "metadata": {},
   "outputs": [],
   "source": [
    "# Build the endpoint URL for COVID-19 by country\n",
    "# Returns confirmed type for a country from the first recorded case. \n",
    "# Source : https://covid19api.com/\n",
    "target_url = ('https://api.covid19api.com/total/dayone/country/us/status/confirmed')"
   ]
  },
  {
   "cell_type": "code",
   "execution_count": null,
   "metadata": {},
   "outputs": [],
   "source": [
    "# Run a request to endpoint and convert result to json\n",
    "US_data = requests.get(target_url).json()"
   ]
  },
  {
   "cell_type": "code",
   "execution_count": null,
   "metadata": {},
   "outputs": [],
   "source": [
    "US_df = pd.DataFrame(US_data).reset_index()\n",
    "US_df = US_df.rename(columns={\"index\":\"id\"})"
   ]
  },
  {
   "cell_type": "code",
   "execution_count": null,
   "metadata": {},
   "outputs": [],
   "source": [
    "#convert to csv file\n",
    "US_df.to_csv(\"US_Covid19.csv\",index=False)\n",
    "US_df"
   ]
  }
 ],
 "metadata": {
  "kernelspec": {
   "display_name": "Python 3",
   "language": "python",
   "name": "python3"
  },
  "language_info": {
   "codemirror_mode": {
    "name": "ipython",
    "version": 3
   },
   "file_extension": ".py",
   "mimetype": "text/x-python",
   "name": "python",
   "nbconvert_exporter": "python",
   "pygments_lexer": "ipython3",
   "version": "3.7.5"
  }
 },
 "nbformat": 4,
 "nbformat_minor": 2
}
